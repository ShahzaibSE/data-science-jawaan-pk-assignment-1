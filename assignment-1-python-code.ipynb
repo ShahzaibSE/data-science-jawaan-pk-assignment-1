{
 "cells": [
  {
   "cell_type": "markdown",
   "id": "0d12a63a",
   "metadata": {},
   "source": [
    "1. Write a Python program to print the following string in a specific format (see the\n",
    "output).\n",
    "Twinkle, twinkle, little star,\n",
    "How I wonder what you are!\n",
    "Up above the world so high,\n",
    "Like a diamond in the sky.\n",
    "Twinkle, twinkle, little star,\n",
    "How I wonder what you are"
   ]
  },
  {
   "cell_type": "code",
   "execution_count": 1,
   "id": "820b6481",
   "metadata": {},
   "outputs": [
    {
     "name": "stdout",
     "output_type": "stream",
     "text": [
      "Twinkle, twinkle, little star,\n",
      " \tHow I wonder what you are!\n",
      "\t\tUp above the world so high,\n",
      "\t\tLike a diamond in the sky.\n",
      "\t\t\r",
      "Twinkle, twinkle, little star,\n",
      "\tHow I wonder what you are\n"
     ]
    }
   ],
   "source": [
    "print(\"Twinkle, twinkle, little star,\\n \\tHow I wonder what you are!\\n\\t\\tUp above the world so high,\\n\\t\\tLike a diamond in the sky.\\n\\t\\t\\rTwinkle, twinkle, little star,\\n\\tHow I wonder what you are\")"
   ]
  },
  {
   "cell_type": "markdown",
   "id": "f7d717c5",
   "metadata": {},
   "source": [
    "2. Write a Python program to get the Python version you are using"
   ]
  },
  {
   "cell_type": "code",
   "execution_count": 2,
   "id": "ec360134",
   "metadata": {},
   "outputs": [
    {
     "name": "stdout",
     "output_type": "stream",
     "text": [
      "3.8.5\n"
     ]
    }
   ],
   "source": [
    "from platform import python_version\n",
    "print(python_version())"
   ]
  },
  {
   "cell_type": "markdown",
   "id": "ff18c97e",
   "metadata": {},
   "source": [
    "3. Write a Python program to display the current date and time."
   ]
  },
  {
   "cell_type": "code",
   "execution_count": 3,
   "id": "7b8be716",
   "metadata": {},
   "outputs": [
    {
     "name": "stdout",
     "output_type": "stream",
     "text": [
      "2021/10/23 - 19:23:09\n"
     ]
    }
   ],
   "source": [
    "from datetime import datetime\n",
    "current_date_time = datetime.now().strftime(\"%Y/%m/%d - %H:%M:%S\")\n",
    "print(current_date_time)"
   ]
  },
  {
   "cell_type": "markdown",
   "id": "b1e9b985",
   "metadata": {},
   "source": [
    "4. Write a Python program which accepts the radius of a circle from the user and compute\n",
    "the area."
   ]
  },
  {
   "cell_type": "code",
   "execution_count": 4,
   "id": "3ff0a8c6",
   "metadata": {},
   "outputs": [
    {
     "name": "stdout",
     "output_type": "stream",
     "text": [
      "Enter your radius: 34\n",
      "Area: 106.828\n"
     ]
    }
   ],
   "source": [
    "radius = int(input(\"Enter your radius: \"))\n",
    "area = 3.142*radius\n",
    "print(\"Area: {}\".format(area))"
   ]
  },
  {
   "cell_type": "markdown",
   "id": "0a00622b",
   "metadata": {},
   "source": [
    "5. Write a Python program which accepts the user's first and last name and print them in\n",
    "reverse order with a space between them."
   ]
  },
  {
   "cell_type": "code",
   "execution_count": 5,
   "id": "d35404a0",
   "metadata": {},
   "outputs": [
    {
     "name": "stdout",
     "output_type": "stream",
     "text": [
      "Enter your first name:Shahzaib\n",
      "Enter your last name:Noor\n",
      "Shahzaib Noor\n",
      "\n",
      "Full Name: Shahzaib Noor\n",
      "\n",
      "Reversed fullname\n",
      "Noor Shahzaib\n"
     ]
    }
   ],
   "source": [
    "## initializing the string\n",
    "firstname = input(\"Enter your first name:\")\n",
    "lastname = input(\"Enter your last name:\")\n",
    "fullname = f\"{firstname} {lastname}\"\n",
    "print(fullname)\n",
    "## splitting the string on space\n",
    "split_fullname = fullname.split()\n",
    "# ## reversing the words using reversed() function\n",
    "reversed_fullname = list(reversed(split_fullname))\n",
    "# ## joining the words and printing\n",
    "print()\n",
    "print(\"Full Name: {0}\\n\".format(fullname))\n",
    "print(\"Reversed fullname\")\n",
    "print(\" \".join(reversed_fullname))"
   ]
  },
  {
   "cell_type": "markdown",
   "id": "5caa93f2",
   "metadata": {},
   "source": [
    "6. Write a python program which takes two inputs from user and print them addition"
   ]
  },
  {
   "cell_type": "code",
   "execution_count": 8,
   "id": "43f49c94",
   "metadata": {},
   "outputs": [
    {
     "name": "stdout",
     "output_type": "stream",
     "text": [
      "Enter first input:3\n",
      "Enter second input:3\n",
      "Addition :- 3 + 3 = 6\n"
     ]
    }
   ],
   "source": [
    "number1 = int(input(\"Enter first input:\"))\n",
    "number2 = int(input(\"Enter second input:\"))\n",
    "print(\"Addition :- {0} + {1} = {2}\".format(number1, number2, number1+number2))"
   ]
  },
  {
   "cell_type": "code",
   "execution_count": null,
   "id": "6eb41544",
   "metadata": {},
   "outputs": [],
   "source": []
  }
 ],
 "metadata": {
  "kernelspec": {
   "display_name": "Python 3 (ipykernel)",
   "language": "python",
   "name": "python3"
  },
  "language_info": {
   "codemirror_mode": {
    "name": "ipython",
    "version": 3
   },
   "file_extension": ".py",
   "mimetype": "text/x-python",
   "name": "python",
   "nbconvert_exporter": "python",
   "pygments_lexer": "ipython3",
   "version": "3.8.5"
  }
 },
 "nbformat": 4,
 "nbformat_minor": 5
}
